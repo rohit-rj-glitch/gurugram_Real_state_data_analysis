{
  "nbformat": 4,
  "nbformat_minor": 0,
  "metadata": {
    "colab": {
      "provenance": []
    },
    "kernelspec": {
      "name": "python3",
      "display_name": "Python 3"
    },
    "language_info": {
      "name": "python"
    }
  },
  "cells": [
    {
      "cell_type": "code",
      "execution_count": null,
      "metadata": {
        "id": "1cajCUC4cbGJ"
      },
      "outputs": [],
      "source": [
        "import pandas as pd\n",
        "import numpy as np"
      ]
    },
    {
      "cell_type": "code",
      "source": [
        "flats = pd.read_csv('/content/flats_cleaned.csv')\n",
        "house = pd.read_csv('/content/house_cleaned.csv')"
      ],
      "metadata": {
        "id": "WQ2ojFqCckW-"
      },
      "execution_count": null,
      "outputs": []
    },
    {
      "cell_type": "code",
      "source": [
        "flats.columns"
      ],
      "metadata": {
        "colab": {
          "base_uri": "https://localhost:8080/"
        },
        "id": "luLaxB9SdSEF",
        "outputId": "7e6f0d95-e481-479b-a6bc-6f3c6ed18fdc"
      },
      "execution_count": null,
      "outputs": [
        {
          "output_type": "execute_result",
          "data": {
            "text/plain": [
              "Index(['property_name', 'property_type', 'society', 'price', 'price_per_sqft',\n",
              "       'area', 'areaWithType', 'bedRoom', 'bathroom', 'balcony',\n",
              "       'additionalRoom', 'address', 'floorNum', 'facing', 'agePossession',\n",
              "       'nearbyLocations', 'description', 'furnishDetails', 'features',\n",
              "       'rating'],\n",
              "      dtype='object')"
            ]
          },
          "metadata": {},
          "execution_count": 14
        }
      ]
    },
    {
      "cell_type": "code",
      "source": [
        "house.columns"
      ],
      "metadata": {
        "colab": {
          "base_uri": "https://localhost:8080/"
        },
        "id": "bk-RsDCvdXom",
        "outputId": "2dd1eb53-23b7-47a4-df07-649f007f2532"
      },
      "execution_count": null,
      "outputs": [
        {
          "output_type": "execute_result",
          "data": {
            "text/plain": [
              "Index(['property_name', 'property_type', 'society', 'price', 'price_per_sqft',\n",
              "       'area', 'areaWithType', 'bedRoom', 'bathroom', 'balcony',\n",
              "       'additionalRoom', 'address', 'floorNum', 'facing', 'agePossession',\n",
              "       'nearbyLocations', 'description', 'furnishDetails', 'features',\n",
              "       'rating'],\n",
              "      dtype='object')"
            ]
          },
          "metadata": {},
          "execution_count": 15
        }
      ]
    },
    {
      "cell_type": "code",
      "source": [
        "df = pd.concat([flats,house],ignore_index = True)"
      ],
      "metadata": {
        "id": "UiALRBF0daBQ"
      },
      "execution_count": null,
      "outputs": []
    },
    {
      "cell_type": "code",
      "source": [
        "df.shape"
      ],
      "metadata": {
        "colab": {
          "base_uri": "https://localhost:8080/"
        },
        "id": "zyDxnl-0duyM",
        "outputId": "9e0a5c39-0580-43d7-d004-4047e445b9f4"
      },
      "execution_count": null,
      "outputs": [
        {
          "output_type": "execute_result",
          "data": {
            "text/plain": [
              "(3959, 20)"
            ]
          },
          "metadata": {},
          "execution_count": 17
        }
      ]
    },
    {
      "cell_type": "code",
      "source": [
        "df['furnishDetails'].fillna('Na',inplace=True)"
      ],
      "metadata": {
        "id": "-8aIQpUAdz4F"
      },
      "execution_count": null,
      "outputs": []
    },
    {
      "cell_type": "code",
      "source": [
        "df['furnishDetails'].isnull().sum()"
      ],
      "metadata": {
        "colab": {
          "base_uri": "https://localhost:8080/"
        },
        "id": "lNfa97qIeYmb",
        "outputId": "00806b50-b787-48ff-fce3-f59a14f7613e"
      },
      "execution_count": null,
      "outputs": [
        {
          "output_type": "execute_result",
          "data": {
            "text/plain": [
              "0"
            ]
          },
          "metadata": {},
          "execution_count": 19
        }
      ]
    },
    {
      "cell_type": "code",
      "source": [
        "df = df.sample(df.shape[0],ignore_index=True)"
      ],
      "metadata": {
        "id": "O9lbXQUBjqcC"
      },
      "execution_count": null,
      "outputs": []
    },
    {
      "cell_type": "code",
      "source": [
        "df.head()"
      ],
      "metadata": {
        "colab": {
          "base_uri": "https://localhost:8080/",
          "height": 625
        },
        "id": "-26870ahjrCN",
        "outputId": "fd6caf04-3f10-4328-eec3-4938bc0897ca"
      },
      "execution_count": null,
      "outputs": [
        {
          "output_type": "execute_result",
          "data": {
            "text/plain": [
              "                                   property_name property_type  \\\n",
              "0               2 BHK Flat in Sector 23A Gurgaon          flat   \n",
              "1     34 Bedroom House for sale in Manohar Nagar         house   \n",
              "2  1 Bedroom House for sale in Sector 39 Gurgaon         house   \n",
              "3  4 Bedroom House for sale in Sector 48 Gurgaon         house   \n",
              "4                4 BHK Flat in Sector 82 Gurgaon          flat   \n",
              "\n",
              "              society  price  price_per_sqft    area  \\\n",
              "0   ashiana apartment   0.16          2051.0   780.0   \n",
              "1       manohar nagar   5.60         12444.0  4500.0   \n",
              "2         independent   1.80         21875.0   823.0   \n",
              "3  vipul tatvam villa   7.35         22812.0  3222.0   \n",
              "4   mapsko casa bella   3.00          6134.0  4891.0   \n",
              "\n",
              "                                        areaWithType  bedRoom  bathroom  \\\n",
              "0               Super Built up area 780(72.46 sq.m.)        2         2   \n",
              "1  Plot area 500(418.06 sq.m.)Built Up area: 500 ...       34        34   \n",
              "2  Plot area 900(83.61 sq.m.)Built Up area: 800 s...        1         1   \n",
              "3                        Plot area 358(299.33 sq.m.)        4         5   \n",
              "4              Super Built up area 4890(454.3 sq.m.)        4         6   \n",
              "\n",
              "  balcony                                 additionalRoom  \\\n",
              "0       2                                  not available   \n",
              "1      3+                                  not available   \n",
              "2       2                                  not available   \n",
              "3       2  servant room,store room,study room,pooja room   \n",
              "4      3+                        pooja room,servant room   \n",
              "\n",
              "                                        address  floorNum      facing  \\\n",
              "0          Sector 23A Gurgaon, Gurgaon, Haryana       1.0          Na   \n",
              "1       230/26, Manohar Nagar, Gurgaon, Haryana       4.0         NaN   \n",
              "2      00., Sector 39 Gurgaon, Gurgaon, Haryana       3.0  North-East   \n",
              "3      001, Sector 48 Gurgaon, Gurgaon, Haryana       2.0       South   \n",
              "4  A1-2501, Sector 82 Gurgaon, Gurgaon, Haryana      25.0        West   \n",
              "\n",
              "      agePossession                                    nearbyLocations  \\\n",
              "0  5 to 10 Year Old  ['HUDA Sector 23 Market', 'Palam triangle', 'P...   \n",
              "1   0 to 1 Year Old  ['Shiv Mahima Patient Care Bureau', 'Navjeevan...   \n",
              "2   1 to 5 Year Old  ['Axis bank ATM', 'State bank of india ATM', '...   \n",
              "3  5 to 10 Year Old  ['Athena', 'Star Mall', 'The Sixth Element Sch...   \n",
              "4   1 to 5 Year Old  ['Vatika City Centre Mall', 'Pataudi Road', 'B...   \n",
              "\n",
              "                                         description  \\\n",
              "0  Residential apartment for sell.Located on 1st ...   \n",
              "1  This is a newly constructed building. With pro...   \n",
              "2  1bhk residential house for resale in sector 39...   \n",
              "3  Tatvam villas is one of the most luxurious res...   \n",
              "4  Best location and amazing view from the pentho...   \n",
              "\n",
              "                                      furnishDetails  \\\n",
              "0                                                 []   \n",
              "1  ['36 Fan', '51 Light', 'No AC', 'No Bed', 'No ...   \n",
              "2                                                 Na   \n",
              "3  ['4 Wardrobe', '6 Fan', '1 Exhaust Fan', '14 L...   \n",
              "4  ['1 Water Purifier', '12 Fan', '1 Exhaust Fan'...   \n",
              "\n",
              "                                            features  \\\n",
              "0                                                NaN   \n",
              "1                                                NaN   \n",
              "2                                                NaN   \n",
              "3  ['Security / Fire Alarm', 'Feng Shui / Vaastu ...   \n",
              "4  ['Security / Fire Alarm', 'Power Back-up', 'Fe...   \n",
              "\n",
              "                                              rating  \n",
              "0  ['Environment5 out of 5', 'Lifestyle4 out of 5...  \n",
              "1                                                NaN  \n",
              "2  ['Environment4 out of 5', 'Lifestyle4 out of 5...  \n",
              "3  ['Environment4 out of 5', 'Lifestyle4 out of 5...  \n",
              "4  ['Green Area4.5 out of 5', 'Construction4 out ...  "
            ],
            "text/html": [
              "\n",
              "  <div id=\"df-451d5bf4-bc8e-4100-8315-534b06ee863a\" class=\"colab-df-container\">\n",
              "    <div>\n",
              "<style scoped>\n",
              "    .dataframe tbody tr th:only-of-type {\n",
              "        vertical-align: middle;\n",
              "    }\n",
              "\n",
              "    .dataframe tbody tr th {\n",
              "        vertical-align: top;\n",
              "    }\n",
              "\n",
              "    .dataframe thead th {\n",
              "        text-align: right;\n",
              "    }\n",
              "</style>\n",
              "<table border=\"1\" class=\"dataframe\">\n",
              "  <thead>\n",
              "    <tr style=\"text-align: right;\">\n",
              "      <th></th>\n",
              "      <th>property_name</th>\n",
              "      <th>property_type</th>\n",
              "      <th>society</th>\n",
              "      <th>price</th>\n",
              "      <th>price_per_sqft</th>\n",
              "      <th>area</th>\n",
              "      <th>areaWithType</th>\n",
              "      <th>bedRoom</th>\n",
              "      <th>bathroom</th>\n",
              "      <th>balcony</th>\n",
              "      <th>additionalRoom</th>\n",
              "      <th>address</th>\n",
              "      <th>floorNum</th>\n",
              "      <th>facing</th>\n",
              "      <th>agePossession</th>\n",
              "      <th>nearbyLocations</th>\n",
              "      <th>description</th>\n",
              "      <th>furnishDetails</th>\n",
              "      <th>features</th>\n",
              "      <th>rating</th>\n",
              "    </tr>\n",
              "  </thead>\n",
              "  <tbody>\n",
              "    <tr>\n",
              "      <th>0</th>\n",
              "      <td>2 BHK Flat in Sector 23A Gurgaon</td>\n",
              "      <td>flat</td>\n",
              "      <td>ashiana apartment</td>\n",
              "      <td>0.16</td>\n",
              "      <td>2051.0</td>\n",
              "      <td>780.0</td>\n",
              "      <td>Super Built up area 780(72.46 sq.m.)</td>\n",
              "      <td>2</td>\n",
              "      <td>2</td>\n",
              "      <td>2</td>\n",
              "      <td>not available</td>\n",
              "      <td>Sector 23A Gurgaon, Gurgaon, Haryana</td>\n",
              "      <td>1.0</td>\n",
              "      <td>Na</td>\n",
              "      <td>5 to 10 Year Old</td>\n",
              "      <td>['HUDA Sector 23 Market', 'Palam triangle', 'P...</td>\n",
              "      <td>Residential apartment for sell.Located on 1st ...</td>\n",
              "      <td>[]</td>\n",
              "      <td>NaN</td>\n",
              "      <td>['Environment5 out of 5', 'Lifestyle4 out of 5...</td>\n",
              "    </tr>\n",
              "    <tr>\n",
              "      <th>1</th>\n",
              "      <td>34 Bedroom House for sale in Manohar Nagar</td>\n",
              "      <td>house</td>\n",
              "      <td>manohar nagar</td>\n",
              "      <td>5.60</td>\n",
              "      <td>12444.0</td>\n",
              "      <td>4500.0</td>\n",
              "      <td>Plot area 500(418.06 sq.m.)Built Up area: 500 ...</td>\n",
              "      <td>34</td>\n",
              "      <td>34</td>\n",
              "      <td>3+</td>\n",
              "      <td>not available</td>\n",
              "      <td>230/26, Manohar Nagar, Gurgaon, Haryana</td>\n",
              "      <td>4.0</td>\n",
              "      <td>NaN</td>\n",
              "      <td>0 to 1 Year Old</td>\n",
              "      <td>['Shiv Mahima Patient Care Bureau', 'Navjeevan...</td>\n",
              "      <td>This is a newly constructed building. With pro...</td>\n",
              "      <td>['36 Fan', '51 Light', 'No AC', 'No Bed', 'No ...</td>\n",
              "      <td>NaN</td>\n",
              "      <td>NaN</td>\n",
              "    </tr>\n",
              "    <tr>\n",
              "      <th>2</th>\n",
              "      <td>1 Bedroom House for sale in Sector 39 Gurgaon</td>\n",
              "      <td>house</td>\n",
              "      <td>independent</td>\n",
              "      <td>1.80</td>\n",
              "      <td>21875.0</td>\n",
              "      <td>823.0</td>\n",
              "      <td>Plot area 900(83.61 sq.m.)Built Up area: 800 s...</td>\n",
              "      <td>1</td>\n",
              "      <td>1</td>\n",
              "      <td>2</td>\n",
              "      <td>not available</td>\n",
              "      <td>00., Sector 39 Gurgaon, Gurgaon, Haryana</td>\n",
              "      <td>3.0</td>\n",
              "      <td>North-East</td>\n",
              "      <td>1 to 5 Year Old</td>\n",
              "      <td>['Axis bank ATM', 'State bank of india ATM', '...</td>\n",
              "      <td>1bhk residential house for resale in sector 39...</td>\n",
              "      <td>Na</td>\n",
              "      <td>NaN</td>\n",
              "      <td>['Environment4 out of 5', 'Lifestyle4 out of 5...</td>\n",
              "    </tr>\n",
              "    <tr>\n",
              "      <th>3</th>\n",
              "      <td>4 Bedroom House for sale in Sector 48 Gurgaon</td>\n",
              "      <td>house</td>\n",
              "      <td>vipul tatvam villa</td>\n",
              "      <td>7.35</td>\n",
              "      <td>22812.0</td>\n",
              "      <td>3222.0</td>\n",
              "      <td>Plot area 358(299.33 sq.m.)</td>\n",
              "      <td>4</td>\n",
              "      <td>5</td>\n",
              "      <td>2</td>\n",
              "      <td>servant room,store room,study room,pooja room</td>\n",
              "      <td>001, Sector 48 Gurgaon, Gurgaon, Haryana</td>\n",
              "      <td>2.0</td>\n",
              "      <td>South</td>\n",
              "      <td>5 to 10 Year Old</td>\n",
              "      <td>['Athena', 'Star Mall', 'The Sixth Element Sch...</td>\n",
              "      <td>Tatvam villas is one of the most luxurious res...</td>\n",
              "      <td>['4 Wardrobe', '6 Fan', '1 Exhaust Fan', '14 L...</td>\n",
              "      <td>['Security / Fire Alarm', 'Feng Shui / Vaastu ...</td>\n",
              "      <td>['Environment4 out of 5', 'Lifestyle4 out of 5...</td>\n",
              "    </tr>\n",
              "    <tr>\n",
              "      <th>4</th>\n",
              "      <td>4 BHK Flat in Sector 82 Gurgaon</td>\n",
              "      <td>flat</td>\n",
              "      <td>mapsko casa bella</td>\n",
              "      <td>3.00</td>\n",
              "      <td>6134.0</td>\n",
              "      <td>4891.0</td>\n",
              "      <td>Super Built up area 4890(454.3 sq.m.)</td>\n",
              "      <td>4</td>\n",
              "      <td>6</td>\n",
              "      <td>3+</td>\n",
              "      <td>pooja room,servant room</td>\n",
              "      <td>A1-2501, Sector 82 Gurgaon, Gurgaon, Haryana</td>\n",
              "      <td>25.0</td>\n",
              "      <td>West</td>\n",
              "      <td>1 to 5 Year Old</td>\n",
              "      <td>['Vatika City Centre Mall', 'Pataudi Road', 'B...</td>\n",
              "      <td>Best location and amazing view from the pentho...</td>\n",
              "      <td>['1 Water Purifier', '12 Fan', '1 Exhaust Fan'...</td>\n",
              "      <td>['Security / Fire Alarm', 'Power Back-up', 'Fe...</td>\n",
              "      <td>['Green Area4.5 out of 5', 'Construction4 out ...</td>\n",
              "    </tr>\n",
              "  </tbody>\n",
              "</table>\n",
              "</div>\n",
              "    <div class=\"colab-df-buttons\">\n",
              "\n",
              "  <div class=\"colab-df-container\">\n",
              "    <button class=\"colab-df-convert\" onclick=\"convertToInteractive('df-451d5bf4-bc8e-4100-8315-534b06ee863a')\"\n",
              "            title=\"Convert this dataframe to an interactive table.\"\n",
              "            style=\"display:none;\">\n",
              "\n",
              "  <svg xmlns=\"http://www.w3.org/2000/svg\" height=\"24px\" viewBox=\"0 -960 960 960\">\n",
              "    <path d=\"M120-120v-720h720v720H120Zm60-500h600v-160H180v160Zm220 220h160v-160H400v160Zm0 220h160v-160H400v160ZM180-400h160v-160H180v160Zm440 0h160v-160H620v160ZM180-180h160v-160H180v160Zm440 0h160v-160H620v160Z\"/>\n",
              "  </svg>\n",
              "    </button>\n",
              "\n",
              "  <style>\n",
              "    .colab-df-container {\n",
              "      display:flex;\n",
              "      gap: 12px;\n",
              "    }\n",
              "\n",
              "    .colab-df-convert {\n",
              "      background-color: #E8F0FE;\n",
              "      border: none;\n",
              "      border-radius: 50%;\n",
              "      cursor: pointer;\n",
              "      display: none;\n",
              "      fill: #1967D2;\n",
              "      height: 32px;\n",
              "      padding: 0 0 0 0;\n",
              "      width: 32px;\n",
              "    }\n",
              "\n",
              "    .colab-df-convert:hover {\n",
              "      background-color: #E2EBFA;\n",
              "      box-shadow: 0px 1px 2px rgba(60, 64, 67, 0.3), 0px 1px 3px 1px rgba(60, 64, 67, 0.15);\n",
              "      fill: #174EA6;\n",
              "    }\n",
              "\n",
              "    .colab-df-buttons div {\n",
              "      margin-bottom: 4px;\n",
              "    }\n",
              "\n",
              "    [theme=dark] .colab-df-convert {\n",
              "      background-color: #3B4455;\n",
              "      fill: #D2E3FC;\n",
              "    }\n",
              "\n",
              "    [theme=dark] .colab-df-convert:hover {\n",
              "      background-color: #434B5C;\n",
              "      box-shadow: 0px 1px 3px 1px rgba(0, 0, 0, 0.15);\n",
              "      filter: drop-shadow(0px 1px 2px rgba(0, 0, 0, 0.3));\n",
              "      fill: #FFFFFF;\n",
              "    }\n",
              "  </style>\n",
              "\n",
              "    <script>\n",
              "      const buttonEl =\n",
              "        document.querySelector('#df-451d5bf4-bc8e-4100-8315-534b06ee863a button.colab-df-convert');\n",
              "      buttonEl.style.display =\n",
              "        google.colab.kernel.accessAllowed ? 'block' : 'none';\n",
              "\n",
              "      async function convertToInteractive(key) {\n",
              "        const element = document.querySelector('#df-451d5bf4-bc8e-4100-8315-534b06ee863a');\n",
              "        const dataTable =\n",
              "          await google.colab.kernel.invokeFunction('convertToInteractive',\n",
              "                                                    [key], {});\n",
              "        if (!dataTable) return;\n",
              "\n",
              "        const docLinkHtml = 'Like what you see? Visit the ' +\n",
              "          '<a target=\"_blank\" href=https://colab.research.google.com/notebooks/data_table.ipynb>data table notebook</a>'\n",
              "          + ' to learn more about interactive tables.';\n",
              "        element.innerHTML = '';\n",
              "        dataTable['output_type'] = 'display_data';\n",
              "        await google.colab.output.renderOutput(dataTable, element);\n",
              "        const docLink = document.createElement('div');\n",
              "        docLink.innerHTML = docLinkHtml;\n",
              "        element.appendChild(docLink);\n",
              "      }\n",
              "    </script>\n",
              "  </div>\n",
              "\n",
              "\n",
              "<div id=\"df-f21bec21-6f89-4282-a6d6-8fc3866be4a7\">\n",
              "  <button class=\"colab-df-quickchart\" onclick=\"quickchart('df-f21bec21-6f89-4282-a6d6-8fc3866be4a7')\"\n",
              "            title=\"Suggest charts\"\n",
              "            style=\"display:none;\">\n",
              "\n",
              "<svg xmlns=\"http://www.w3.org/2000/svg\" height=\"24px\"viewBox=\"0 0 24 24\"\n",
              "     width=\"24px\">\n",
              "    <g>\n",
              "        <path d=\"M19 3H5c-1.1 0-2 .9-2 2v14c0 1.1.9 2 2 2h14c1.1 0 2-.9 2-2V5c0-1.1-.9-2-2-2zM9 17H7v-7h2v7zm4 0h-2V7h2v10zm4 0h-2v-4h2v4z\"/>\n",
              "    </g>\n",
              "</svg>\n",
              "  </button>\n",
              "\n",
              "<style>\n",
              "  .colab-df-quickchart {\n",
              "      --bg-color: #E8F0FE;\n",
              "      --fill-color: #1967D2;\n",
              "      --hover-bg-color: #E2EBFA;\n",
              "      --hover-fill-color: #174EA6;\n",
              "      --disabled-fill-color: #AAA;\n",
              "      --disabled-bg-color: #DDD;\n",
              "  }\n",
              "\n",
              "  [theme=dark] .colab-df-quickchart {\n",
              "      --bg-color: #3B4455;\n",
              "      --fill-color: #D2E3FC;\n",
              "      --hover-bg-color: #434B5C;\n",
              "      --hover-fill-color: #FFFFFF;\n",
              "      --disabled-bg-color: #3B4455;\n",
              "      --disabled-fill-color: #666;\n",
              "  }\n",
              "\n",
              "  .colab-df-quickchart {\n",
              "    background-color: var(--bg-color);\n",
              "    border: none;\n",
              "    border-radius: 50%;\n",
              "    cursor: pointer;\n",
              "    display: none;\n",
              "    fill: var(--fill-color);\n",
              "    height: 32px;\n",
              "    padding: 0;\n",
              "    width: 32px;\n",
              "  }\n",
              "\n",
              "  .colab-df-quickchart:hover {\n",
              "    background-color: var(--hover-bg-color);\n",
              "    box-shadow: 0 1px 2px rgba(60, 64, 67, 0.3), 0 1px 3px 1px rgba(60, 64, 67, 0.15);\n",
              "    fill: var(--button-hover-fill-color);\n",
              "  }\n",
              "\n",
              "  .colab-df-quickchart-complete:disabled,\n",
              "  .colab-df-quickchart-complete:disabled:hover {\n",
              "    background-color: var(--disabled-bg-color);\n",
              "    fill: var(--disabled-fill-color);\n",
              "    box-shadow: none;\n",
              "  }\n",
              "\n",
              "  .colab-df-spinner {\n",
              "    border: 2px solid var(--fill-color);\n",
              "    border-color: transparent;\n",
              "    border-bottom-color: var(--fill-color);\n",
              "    animation:\n",
              "      spin 1s steps(1) infinite;\n",
              "  }\n",
              "\n",
              "  @keyframes spin {\n",
              "    0% {\n",
              "      border-color: transparent;\n",
              "      border-bottom-color: var(--fill-color);\n",
              "      border-left-color: var(--fill-color);\n",
              "    }\n",
              "    20% {\n",
              "      border-color: transparent;\n",
              "      border-left-color: var(--fill-color);\n",
              "      border-top-color: var(--fill-color);\n",
              "    }\n",
              "    30% {\n",
              "      border-color: transparent;\n",
              "      border-left-color: var(--fill-color);\n",
              "      border-top-color: var(--fill-color);\n",
              "      border-right-color: var(--fill-color);\n",
              "    }\n",
              "    40% {\n",
              "      border-color: transparent;\n",
              "      border-right-color: var(--fill-color);\n",
              "      border-top-color: var(--fill-color);\n",
              "    }\n",
              "    60% {\n",
              "      border-color: transparent;\n",
              "      border-right-color: var(--fill-color);\n",
              "    }\n",
              "    80% {\n",
              "      border-color: transparent;\n",
              "      border-right-color: var(--fill-color);\n",
              "      border-bottom-color: var(--fill-color);\n",
              "    }\n",
              "    90% {\n",
              "      border-color: transparent;\n",
              "      border-bottom-color: var(--fill-color);\n",
              "    }\n",
              "  }\n",
              "</style>\n",
              "\n",
              "  <script>\n",
              "    async function quickchart(key) {\n",
              "      const quickchartButtonEl =\n",
              "        document.querySelector('#' + key + ' button');\n",
              "      quickchartButtonEl.disabled = true;  // To prevent multiple clicks.\n",
              "      quickchartButtonEl.classList.add('colab-df-spinner');\n",
              "      try {\n",
              "        const charts = await google.colab.kernel.invokeFunction(\n",
              "            'suggestCharts', [key], {});\n",
              "      } catch (error) {\n",
              "        console.error('Error during call to suggestCharts:', error);\n",
              "      }\n",
              "      quickchartButtonEl.classList.remove('colab-df-spinner');\n",
              "      quickchartButtonEl.classList.add('colab-df-quickchart-complete');\n",
              "    }\n",
              "    (() => {\n",
              "      let quickchartButtonEl =\n",
              "        document.querySelector('#df-f21bec21-6f89-4282-a6d6-8fc3866be4a7 button');\n",
              "      quickchartButtonEl.style.display =\n",
              "        google.colab.kernel.accessAllowed ? 'block' : 'none';\n",
              "    })();\n",
              "  </script>\n",
              "</div>\n",
              "\n",
              "    </div>\n",
              "  </div>\n"
            ],
            "application/vnd.google.colaboratory.intrinsic+json": {
              "type": "dataframe",
              "variable_name": "df",
              "summary": "{\n  \"name\": \"df\",\n  \"rows\": 3959,\n  \"fields\": [\n    {\n      \"column\": \"property_name\",\n      \"properties\": {\n        \"dtype\": \"category\",\n        \"num_unique_values\": 946,\n        \"samples\": [\n          \"1 Bedroom House for sale in Sector 14 Gurgaon\",\n          \"2 BHK Flat in Sector 113 Gurgaon\",\n          \"4 Bedroom House for sale in Ashok Vihar Phase I\"\n        ],\n        \"semantic_type\": \"\",\n        \"description\": \"\"\n      }\n    },\n    {\n      \"column\": \"property_type\",\n      \"properties\": {\n        \"dtype\": \"category\",\n        \"num_unique_values\": 2,\n        \"samples\": [\n          \"house\",\n          \"flat\"\n        ],\n        \"semantic_type\": \"\",\n        \"description\": \"\"\n      }\n    },\n    {\n      \"column\": \"society\",\n      \"properties\": {\n        \"dtype\": \"category\",\n        \"num_unique_values\": 724,\n        \"samples\": [\n          \"nirvana country\",\n          \"suncity heights\"\n        ],\n        \"semantic_type\": \"\",\n        \"description\": \"\"\n      }\n    },\n    {\n      \"column\": \"price\",\n      \"properties\": {\n        \"dtype\": \"number\",\n        \"std\": 2.9227884628282146,\n        \"min\": 0.07,\n        \"max\": 31.5,\n        \"num_unique_values\": 479,\n        \"samples\": [\n          1.72,\n          20.0\n        ],\n        \"semantic_type\": \"\",\n        \"description\": \"\"\n      }\n    },\n    {\n      \"column\": \"price_per_sqft\",\n      \"properties\": {\n        \"dtype\": \"number\",\n        \"std\": 23183.530424834476,\n        \"min\": 2.0,\n        \"max\": 600000.0,\n        \"num_unique_values\": 2730,\n        \"samples\": [\n          6377.0,\n          6775.0\n        ],\n        \"semantic_type\": \"\",\n        \"description\": \"\"\n      }\n    },\n    {\n      \"column\": \"area\",\n      \"properties\": {\n        \"dtype\": \"number\",\n        \"std\": 117600.56212030331,\n        \"min\": 45.0,\n        \"max\": 7250000.0,\n        \"num_unique_values\": 1350,\n        \"samples\": [\n          2680.0,\n          4235.0\n        ],\n        \"semantic_type\": \"\",\n        \"description\": \"\"\n      }\n    },\n    {\n      \"column\": \"areaWithType\",\n      \"properties\": {\n        \"dtype\": \"string\",\n        \"num_unique_values\": 2441,\n        \"samples\": [\n          \"Super Built up area 1350(125.42 sq.m.)Built Up area: 1300 sq.ft. (120.77 sq.m.)Carpet area: 1250 sq.ft. (116.13 sq.m.)\",\n          \"Built Up area: 1492 (138.61 sq.m.)Carpet area: 900 sq.ft. (83.61 sq.m.)\"\n        ],\n        \"semantic_type\": \"\",\n        \"description\": \"\"\n      }\n    },\n    {\n      \"column\": \"bedRoom\",\n      \"properties\": {\n        \"dtype\": \"number\",\n        \"std\": 2,\n        \"min\": 1,\n        \"max\": 36,\n        \"num_unique_values\": 21,\n        \"samples\": [\n          2,\n          21\n        ],\n        \"semantic_type\": \"\",\n        \"description\": \"\"\n      }\n    },\n    {\n      \"column\": \"bathroom\",\n      \"properties\": {\n        \"dtype\": \"number\",\n        \"std\": 2,\n        \"min\": 1,\n        \"max\": 36,\n        \"num_unique_values\": 21,\n        \"samples\": [\n          2,\n          36\n        ],\n        \"semantic_type\": \"\",\n        \"description\": \"\"\n      }\n    },\n    {\n      \"column\": \"balcony\",\n      \"properties\": {\n        \"dtype\": \"category\",\n        \"num_unique_values\": 5,\n        \"samples\": [\n          \"3+\",\n          \"3\"\n        ],\n        \"semantic_type\": \"\",\n        \"description\": \"\"\n      }\n    },\n    {\n      \"column\": \"additionalRoom\",\n      \"properties\": {\n        \"dtype\": \"category\",\n        \"num_unique_values\": 66,\n        \"samples\": [\n          \"store room,servant room,pooja room\",\n          \"servant room,pooja room,store room,study room\"\n        ],\n        \"semantic_type\": \"\",\n        \"description\": \"\"\n      }\n    },\n    {\n      \"column\": \"address\",\n      \"properties\": {\n        \"dtype\": \"category\",\n        \"num_unique_values\": 1827,\n        \"samples\": [\n          \"Chakkarpur, Gurgaon, Haryana\",\n          \"A Block Excellent Location, Sector 26 Gurgaon, Gurgaon, Haryana\"\n        ],\n        \"semantic_type\": \"\",\n        \"description\": \"\"\n      }\n    },\n    {\n      \"column\": \"floorNum\",\n      \"properties\": {\n        \"dtype\": \"number\",\n        \"std\": 6.005281961799509,\n        \"min\": 0.0,\n        \"max\": 51.0,\n        \"num_unique_values\": 44,\n        \"samples\": [\n          35.0,\n          19.0\n        ],\n        \"semantic_type\": \"\",\n        \"description\": \"\"\n      }\n    },\n    {\n      \"column\": \"facing\",\n      \"properties\": {\n        \"dtype\": \"category\",\n        \"num_unique_values\": 9,\n        \"samples\": [\n          \"South-East\",\n          \"North-East\"\n        ],\n        \"semantic_type\": \"\",\n        \"description\": \"\"\n      }\n    },\n    {\n      \"column\": \"agePossession\",\n      \"properties\": {\n        \"dtype\": \"category\",\n        \"num_unique_values\": 48,\n        \"samples\": [\n          \"Aug 2025\",\n          \"Sep 2025\"\n        ],\n        \"semantic_type\": \"\",\n        \"description\": \"\"\n      }\n    },\n    {\n      \"column\": \"nearbyLocations\",\n      \"properties\": {\n        \"dtype\": \"category\",\n        \"num_unique_values\": 876,\n        \"samples\": [\n          \"['Palam Vihar Vyapar kendra', 'Palam triangle', 'Chintapurni Mandir', 'State bank ATM', 'Chirag Hospital Pvt. Ltd', 'R K Hospital Gurgaon', 'Bhardwaj Hospital', 'Kalyan Hospital Gurgaon', 'Dr. Hitesh Dawar', 'Jiya Clinic', 'Dr. Mittal Clinic', 'Sneh Hospital Gurgaon', \\\"Dr. Anurag's Child Care Clinic\\\", 'Yashroop Medical Centre', 'Dr. Sindhu Clinic', 'Prateek Nursing Home And Polyclinic', 'Jain Sant Phool Chand Ji Charitable Hospital', 'Sarvodya Hospital', 'Kr Dental Hub', 'Gurgaon Eye Centre', 'Shree Krishna Hospital Gurgaon', 'Indian bank', 'Kotak bank', 'Hdfc bank', 'Pizza Hut', \\\"McDonald's\\\", 'Gurgaon railway station', 'Gurgaon railway station', 'Gurgaon railway station']\",\n          \"['Reliance MART', 'Lotus Rise World School', 'RPS International School', 'Shri Shakti Shanidham Mandir', 'Axis Bank ATM', 'Canara ATM', 'Kartik hospital', 'VS Hospital', 'Aarvy  Super Specialty Hospital', 'Genesis Hospital', 'Oriental Bank of Commerce', 'Garhi harsaru Railway station', 'HP PETROL PUMP', 'Essar Petrol Pump', 'INOX Cinema']\"\n        ],\n        \"semantic_type\": \"\",\n        \"description\": \"\"\n      }\n    },\n    {\n      \"column\": \"description\",\n      \"properties\": {\n        \"dtype\": \"string\",\n        \"num_unique_values\": 3715,\n        \"samples\": [\n          \"The property is located very close to all the amenities like the malls schools and very close to huda metro.The rooms are spacious\",\n          \"1000 sq yards well maintained build up house available for sale in dlf phase 1, gurugram. Property is located in a gated lane. For more details please contact.\"\n        ],\n        \"semantic_type\": \"\",\n        \"description\": \"\"\n      }\n    },\n    {\n      \"column\": \"furnishDetails\",\n      \"properties\": {\n        \"dtype\": \"category\",\n        \"num_unique_values\": 1860,\n        \"samples\": [\n          \"['2 Wardrobe', '6 Fan', '1 Exhaust Fan', '1 Geyser', '8 Light', '6 AC', '1 Modular Kitchen', '1 Chimney', '1 Curtains', 'No Bed', 'No Dining Table', 'No Microwave', 'No Fridge', 'No Sofa', 'No Stove', 'No TV', 'No Washing Machine', 'No Water Purifier']\",\n          \"['3 Fan', '1 Fridge', '1 Exhaust Fan', '2 Geyser', '4 Light', '3 AC', '1 Modular Kitchen', '1 Chimney', '3 Wardrobe', '1 Washing Machine', '1 Microwave', 'No Bed', 'No Curtains', 'No Dining Table', 'No Sofa', 'No Stove', 'No TV', 'No Water Purifier']\"\n        ],\n        \"semantic_type\": \"\",\n        \"description\": \"\"\n      }\n    },\n    {\n      \"column\": \"features\",\n      \"properties\": {\n        \"dtype\": \"category\",\n        \"num_unique_values\": 1896,\n        \"samples\": [\n          \"['Security / Fire Alarm', 'Feng Shui / Vaastu Compliant', 'Intercom Facility', 'Lift(s)', 'Water purifier', 'Maintenance Staff', 'Water Storage', 'No open drainage around', 'Piped-gas', 'Swimming Pool', 'Park', 'Security Personnel', 'Natural Light', 'Internet/wi-fi connectivity', 'Shopping Centre', 'Fitness Centre / GYM', 'Waste Disposal', 'Rain Water Harvesting', 'Club house / Community Center']\",\n          \"['Centrally Air Conditioned', 'Water purifier', 'Security / Fire Alarm', 'Feng Shui / Vaastu Compliant', 'Intercom Facility', 'Lift(s)', 'High Ceiling Height', 'Maintenance Staff', 'False Ceiling Lighting', 'Water Storage', 'No open drainage around', 'Bank Attached Property', 'Piped-gas', 'Internet/wi-fi connectivity', 'Swimming Pool', 'Park', 'Security Personnel', 'Natural Light', 'Airy Rooms', 'Low Density Society', 'Waste Disposal', 'Rain Water Harvesting', 'Water softening plant', 'Shopping Centre', 'Fitness Centre / GYM', 'Club house / Community Center']\"\n        ],\n        \"semantic_type\": \"\",\n        \"description\": \"\"\n      }\n    },\n    {\n      \"column\": \"rating\",\n      \"properties\": {\n        \"dtype\": \"category\",\n        \"num_unique_values\": 361,\n        \"samples\": [\n          \"['Environment4.5 out of 5', 'Safety4.5 out of 5', 'Lifestyle4 out of 5', 'Connectivity4.5 out of 5']\",\n          \"['Green Area4 out of 5', 'Amenities4 out of 5', 'Management4 out of 5', 'Construction4 out of 5', 'Connectivity4 out of 5']\"\n        ],\n        \"semantic_type\": \"\",\n        \"description\": \"\"\n      }\n    }\n  ]\n}"
            }
          },
          "metadata": {},
          "execution_count": 21
        }
      ]
    },
    {
      "cell_type": "code",
      "source": [
        "df.to_csv('gurgaon_properties.csv',index=False)"
      ],
      "metadata": {
        "id": "MwypXFwRjtLK"
      },
      "execution_count": null,
      "outputs": []
    },
    {
      "cell_type": "code",
      "source": [],
      "metadata": {
        "id": "rTGSGdS5j35L"
      },
      "execution_count": null,
      "outputs": []
    }
  ]
}